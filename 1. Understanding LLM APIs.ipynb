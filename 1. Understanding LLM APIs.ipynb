{
  "nbformat": 4,
  "nbformat_minor": 0,
  "metadata": {
    "colab": {
      "provenance": []
    },
    "kernelspec": {
      "name": "python3",
      "display_name": "Python 3"
    },
    "language_info": {
      "name": "python"
    },
    "widgets": {
      "application/vnd.jupyter.widget-state+json": {
        "3abc239a3dd742859a0458cda9f50d9e": {
          "model_module": "@jupyter-widgets/controls",
          "model_name": "VBoxModel",
          "model_module_version": "1.5.0",
          "state": {
            "_dom_classes": [],
            "_model_module": "@jupyter-widgets/controls",
            "_model_module_version": "1.5.0",
            "_model_name": "VBoxModel",
            "_view_count": null,
            "_view_module": "@jupyter-widgets/controls",
            "_view_module_version": "1.5.0",
            "_view_name": "VBoxView",
            "box_style": "",
            "children": [
              "IPY_MODEL_37a1d1915fe64882bdbc644fc90e3ec9",
              "IPY_MODEL_7abd4ee1a6dd4da59b6e1caaf8c94799"
            ],
            "layout": "IPY_MODEL_ded34e30c42245e885f644098c950dea"
          }
        },
        "37a1d1915fe64882bdbc644fc90e3ec9": {
          "model_module": "@jupyter-widgets/controls",
          "model_name": "LabelModel",
          "model_module_version": "1.5.0",
          "state": {
            "_dom_classes": [],
            "_model_module": "@jupyter-widgets/controls",
            "_model_module_version": "1.5.0",
            "_model_name": "LabelModel",
            "_view_count": null,
            "_view_module": "@jupyter-widgets/controls",
            "_view_module_version": "1.5.0",
            "_view_name": "LabelView",
            "description": "",
            "description_tooltip": null,
            "layout": "IPY_MODEL_650d55e01628448aa8cb53f85e92aa2c",
            "placeholder": "​",
            "style": "IPY_MODEL_43accb0a32a54cf18bc3d4a85111e3ac",
            "value": "0.051 MB of 0.065 MB uploaded (0.000 MB deduped)\r"
          }
        },
        "7abd4ee1a6dd4da59b6e1caaf8c94799": {
          "model_module": "@jupyter-widgets/controls",
          "model_name": "FloatProgressModel",
          "model_module_version": "1.5.0",
          "state": {
            "_dom_classes": [],
            "_model_module": "@jupyter-widgets/controls",
            "_model_module_version": "1.5.0",
            "_model_name": "FloatProgressModel",
            "_view_count": null,
            "_view_module": "@jupyter-widgets/controls",
            "_view_module_version": "1.5.0",
            "_view_name": "ProgressView",
            "bar_style": "",
            "description": "",
            "description_tooltip": null,
            "layout": "IPY_MODEL_3c6689e6d9d54e478ad20541419e674c",
            "max": 1,
            "min": 0,
            "orientation": "horizontal",
            "style": "IPY_MODEL_07ed852ad8864d879fde7c547f31fd0a",
            "value": 0.7748104956268221
          }
        },
        "ded34e30c42245e885f644098c950dea": {
          "model_module": "@jupyter-widgets/base",
          "model_name": "LayoutModel",
          "model_module_version": "1.2.0",
          "state": {
            "_model_module": "@jupyter-widgets/base",
            "_model_module_version": "1.2.0",
            "_model_name": "LayoutModel",
            "_view_count": null,
            "_view_module": "@jupyter-widgets/base",
            "_view_module_version": "1.2.0",
            "_view_name": "LayoutView",
            "align_content": null,
            "align_items": null,
            "align_self": null,
            "border": null,
            "bottom": null,
            "display": null,
            "flex": null,
            "flex_flow": null,
            "grid_area": null,
            "grid_auto_columns": null,
            "grid_auto_flow": null,
            "grid_auto_rows": null,
            "grid_column": null,
            "grid_gap": null,
            "grid_row": null,
            "grid_template_areas": null,
            "grid_template_columns": null,
            "grid_template_rows": null,
            "height": null,
            "justify_content": null,
            "justify_items": null,
            "left": null,
            "margin": null,
            "max_height": null,
            "max_width": null,
            "min_height": null,
            "min_width": null,
            "object_fit": null,
            "object_position": null,
            "order": null,
            "overflow": null,
            "overflow_x": null,
            "overflow_y": null,
            "padding": null,
            "right": null,
            "top": null,
            "visibility": null,
            "width": null
          }
        },
        "650d55e01628448aa8cb53f85e92aa2c": {
          "model_module": "@jupyter-widgets/base",
          "model_name": "LayoutModel",
          "model_module_version": "1.2.0",
          "state": {
            "_model_module": "@jupyter-widgets/base",
            "_model_module_version": "1.2.0",
            "_model_name": "LayoutModel",
            "_view_count": null,
            "_view_module": "@jupyter-widgets/base",
            "_view_module_version": "1.2.0",
            "_view_name": "LayoutView",
            "align_content": null,
            "align_items": null,
            "align_self": null,
            "border": null,
            "bottom": null,
            "display": null,
            "flex": null,
            "flex_flow": null,
            "grid_area": null,
            "grid_auto_columns": null,
            "grid_auto_flow": null,
            "grid_auto_rows": null,
            "grid_column": null,
            "grid_gap": null,
            "grid_row": null,
            "grid_template_areas": null,
            "grid_template_columns": null,
            "grid_template_rows": null,
            "height": null,
            "justify_content": null,
            "justify_items": null,
            "left": null,
            "margin": null,
            "max_height": null,
            "max_width": null,
            "min_height": null,
            "min_width": null,
            "object_fit": null,
            "object_position": null,
            "order": null,
            "overflow": null,
            "overflow_x": null,
            "overflow_y": null,
            "padding": null,
            "right": null,
            "top": null,
            "visibility": null,
            "width": null
          }
        },
        "43accb0a32a54cf18bc3d4a85111e3ac": {
          "model_module": "@jupyter-widgets/controls",
          "model_name": "DescriptionStyleModel",
          "model_module_version": "1.5.0",
          "state": {
            "_model_module": "@jupyter-widgets/controls",
            "_model_module_version": "1.5.0",
            "_model_name": "DescriptionStyleModel",
            "_view_count": null,
            "_view_module": "@jupyter-widgets/base",
            "_view_module_version": "1.2.0",
            "_view_name": "StyleView",
            "description_width": ""
          }
        },
        "3c6689e6d9d54e478ad20541419e674c": {
          "model_module": "@jupyter-widgets/base",
          "model_name": "LayoutModel",
          "model_module_version": "1.2.0",
          "state": {
            "_model_module": "@jupyter-widgets/base",
            "_model_module_version": "1.2.0",
            "_model_name": "LayoutModel",
            "_view_count": null,
            "_view_module": "@jupyter-widgets/base",
            "_view_module_version": "1.2.0",
            "_view_name": "LayoutView",
            "align_content": null,
            "align_items": null,
            "align_self": null,
            "border": null,
            "bottom": null,
            "display": null,
            "flex": null,
            "flex_flow": null,
            "grid_area": null,
            "grid_auto_columns": null,
            "grid_auto_flow": null,
            "grid_auto_rows": null,
            "grid_column": null,
            "grid_gap": null,
            "grid_row": null,
            "grid_template_areas": null,
            "grid_template_columns": null,
            "grid_template_rows": null,
            "height": null,
            "justify_content": null,
            "justify_items": null,
            "left": null,
            "margin": null,
            "max_height": null,
            "max_width": null,
            "min_height": null,
            "min_width": null,
            "object_fit": null,
            "object_position": null,
            "order": null,
            "overflow": null,
            "overflow_x": null,
            "overflow_y": null,
            "padding": null,
            "right": null,
            "top": null,
            "visibility": null,
            "width": null
          }
        },
        "07ed852ad8864d879fde7c547f31fd0a": {
          "model_module": "@jupyter-widgets/controls",
          "model_name": "ProgressStyleModel",
          "model_module_version": "1.5.0",
          "state": {
            "_model_module": "@jupyter-widgets/controls",
            "_model_module_version": "1.5.0",
            "_model_name": "ProgressStyleModel",
            "_view_count": null,
            "_view_module": "@jupyter-widgets/base",
            "_view_module_version": "1.2.0",
            "_view_name": "StyleView",
            "bar_color": null,
            "description_width": ""
          }
        }
      }
    }
  },
  "cells": [
    {
      "cell_type": "markdown",
      "source": [
        "## LLM"
      ],
      "metadata": {
        "id": "9wGXawWT1nzU"
      }
    },
    {
      "cell_type": "markdown",
      "source": [
        "Large Language Models (LLMs) are powerful artificial intelligence systems that <br>are designed to understand and generate human-like text based on the input they <br>receive. These models are trained on vast amounts of data to learn patterns and<br> relationships within language, allowing them to generate coherent and contextually<br> relevant responses."
      ],
      "metadata": {
        "id": "5Fxb405N1sxX"
      }
    },
    {
      "cell_type": "markdown",
      "source": [
        "Large Language Models (LLMs) have gained significant popularity in recent years <br>due to their ability to generate human-like text and assist with a wide range of <br>language-related tasks. Several APIs (Application Programming Interfaces) are<br> available that allow developers to integrate LLMs into their applications or services.<br> Here are some notable LLM APIs:<br>\n",
        "\n",
        "\n",
        "1.   OpenAI GPT-3.5 API\n",
        "2.   HuggingFace Transformers API\n",
        "3.   Google Cloud Natural Language API\n",
        "\n"
      ],
      "metadata": {
        "id": "38-RuI_U2bLK"
      }
    },
    {
      "cell_type": "markdown",
      "source": [
        "In order to use OpenAI API, first we need to create account and generate personal API token."
      ],
      "metadata": {
        "id": "sO7meBRA3gNx"
      }
    },
    {
      "cell_type": "markdown",
      "source": [
        "## Setup"
      ],
      "metadata": {
        "id": "38j9VMnv4PNy"
      }
    },
    {
      "cell_type": "markdown",
      "source": [
        "### Install necessary libraries"
      ],
      "metadata": {
        "id": "JefpoF8s5wNf"
      }
    },
    {
      "cell_type": "markdown",
      "source": [
        "The \"`tiktoken`\" package is a Python library developed by OpenAI that provides <br>a tokenizer for various programming languages, including Python, JavaScript,<br> and more. It allows you to split code into individual tokens, which can be useful<br> for tasks like code analysis or generation."
      ],
      "metadata": {
        "id": "DUcFit5m42l3"
      }
    },
    {
      "cell_type": "markdown",
      "source": [
        "\"`wandb`\" stands for Weights and Biases, which is a tool for visualizing and <br>tracking machine learning experiments. It provides a platform for experiment<br> management, tracking metrics, visualizing results, and collaborating with<br> team members."
      ],
      "metadata": {
        "id": "A9AkjMU15EQ5"
      }
    },
    {
      "cell_type": "code",
      "execution_count": null,
      "metadata": {
        "colab": {
          "base_uri": "https://localhost:8080/"
        },
        "id": "SC6I-5hu1bF3",
        "outputId": "f842e9e5-7f4f-4142-ad06-5e8e71504112"
      },
      "outputs": [
        {
          "output_type": "stream",
          "name": "stdout",
          "text": [
            "\u001b[2K     \u001b[90m━━━━━━━━━━━━━━━━━━━━━━━━━━━━━━━━━━━━━━━━\u001b[0m \u001b[32m73.6/73.6 kB\u001b[0m \u001b[31m9.2 MB/s\u001b[0m eta \u001b[36m0:00:00\u001b[0m\n",
            "\u001b[2K     \u001b[90m━━━━━━━━━━━━━━━━━━━━━━━━━━━━━━━━━━━━━━━━\u001b[0m \u001b[32m1.7/1.7 MB\u001b[0m \u001b[31m66.6 MB/s\u001b[0m eta \u001b[36m0:00:00\u001b[0m\n",
            "\u001b[2K     \u001b[90m━━━━━━━━━━━━━━━━━━━━━━━━━━━━━━━━━━━━━━━━\u001b[0m \u001b[32m2.1/2.1 MB\u001b[0m \u001b[31m92.7 MB/s\u001b[0m eta \u001b[36m0:00:00\u001b[0m\n",
            "\u001b[2K     \u001b[90m━━━━━━━━━━━━━━━━━━━━━━━━━━━━━━━━━━━━━━━━\u001b[0m \u001b[32m1.0/1.0 MB\u001b[0m \u001b[31m80.8 MB/s\u001b[0m eta \u001b[36m0:00:00\u001b[0m\n",
            "\u001b[2K     \u001b[90m━━━━━━━━━━━━━━━━━━━━━━━━━━━━━━━━━━━━━━\u001b[0m \u001b[32m184.3/184.3 kB\u001b[0m \u001b[31m25.6 MB/s\u001b[0m eta \u001b[36m0:00:00\u001b[0m\n",
            "\u001b[2K     \u001b[90m━━━━━━━━━━━━━━━━━━━━━━━━━━━━━━━━━━━━━━\u001b[0m \u001b[32m209.4/209.4 kB\u001b[0m \u001b[31m23.8 MB/s\u001b[0m eta \u001b[36m0:00:00\u001b[0m\n",
            "\u001b[?25h  Preparing metadata (setup.py) ... \u001b[?25l\u001b[?25hdone\n",
            "\u001b[2K     \u001b[90m━━━━━━━━━━━━━━━━━━━━━━━━━━━━━━━━━━━━━━━━\u001b[0m \u001b[32m62.7/62.7 kB\u001b[0m \u001b[31m8.1 MB/s\u001b[0m eta \u001b[36m0:00:00\u001b[0m\n",
            "\u001b[2K     \u001b[90m━━━━━━━━━━━━━━━━━━━━━━━━━━━━━━━━━━━━━━\u001b[0m \u001b[32m114.5/114.5 kB\u001b[0m \u001b[31m12.7 MB/s\u001b[0m eta \u001b[36m0:00:00\u001b[0m\n",
            "\u001b[2K     \u001b[90m━━━━━━━━━━━━━━━━━━━━━━━━━━━━━━━━━━━━━━\u001b[0m \u001b[32m268.8/268.8 kB\u001b[0m \u001b[31m32.6 MB/s\u001b[0m eta \u001b[36m0:00:00\u001b[0m\n",
            "\u001b[2K     \u001b[90m━━━━━━━━━━━━━━━━━━━━━━━━━━━━━━━━━━━━━━\u001b[0m \u001b[32m149.6/149.6 kB\u001b[0m \u001b[31m22.8 MB/s\u001b[0m eta \u001b[36m0:00:00\u001b[0m\n",
            "\u001b[?25h  Building wheel for pathtools (setup.py) ... \u001b[?25l\u001b[?25hdone\n"
          ]
        }
      ],
      "source": [
        "!pip install --upgrade openai tiktoken wandb -qq"
      ]
    },
    {
      "cell_type": "markdown",
      "source": [
        "### Import necessary packages"
      ],
      "metadata": {
        "id": "FNwWLm3r5znW"
      }
    },
    {
      "cell_type": "code",
      "source": [
        "import os\n",
        "import openai\n",
        "import tiktoken\n",
        "import wandb\n",
        "from pprint import pprint\n",
        "from getpass import getpass\n",
        "from wandb.integration.openai import autolog"
      ],
      "metadata": {
        "id": "z5DH3gpW5XXQ"
      },
      "execution_count": null,
      "outputs": []
    },
    {
      "cell_type": "markdown",
      "source": [
        " The `pprint` module in Python provides a way to *pretty-print* data structures,<br> making them more readable and visually appealing when printed to the <br>console or written to a file. It is particularly useful for printing nested data<br> structures like dictionaries, lists, and tuples."
      ],
      "metadata": {
        "id": "MnVeKjoA6EbO"
      }
    },
    {
      "cell_type": "markdown",
      "source": [
        "The `getpass` module in Python provides a secure way to interactively prompt the user<br> for a password or other sensitive information without displaying it on the console.<br> It allows us to securely handle user input that should be kept private."
      ],
      "metadata": {
        "id": "HQpOwQQf6gTR"
      }
    },
    {
      "cell_type": "markdown",
      "source": [
        "The `wandb.integration.openai` module provides integration between the Weights and Biases (wandb) <br>library and OpenAI's machine learning frameworks, such as TensorFlow and PyTorch. <br>Specifically, it includes the `autolog` function, which enables automatic logging<br> of experiment metrics, parameters, and model artifacts to Weights and Biases."
      ],
      "metadata": {
        "id": "C9Z-MT-n6156"
      }
    },
    {
      "cell_type": "markdown",
      "source": [
        "### Get the OpenAI API"
      ],
      "metadata": {
        "id": "8Qk51xM37NuK"
      }
    },
    {
      "cell_type": "code",
      "source": [
        "if openai.api_key is None:\n",
        "  openai.api_key = getpass(\"Paste your OpenAI key from: https://platform.openai.com/account/api-keys\\n\")\n",
        "\n",
        "assert openai.api_key.startswith(\"sk-\"), \"This doesn't look like a valid OpenAI API key\"\n",
        "print(\"OpenAI API key configured\")"
      ],
      "metadata": {
        "colab": {
          "base_uri": "https://localhost:8080/"
        },
        "id": "Wi4pXlFz6Dl2",
        "outputId": "22e4a5f6-3d14-466d-a034-ca82f2fc1539"
      },
      "execution_count": null,
      "outputs": [
        {
          "output_type": "stream",
          "name": "stdout",
          "text": [
            "OpenAI API key configured\n"
          ]
        }
      ]
    },
    {
      "cell_type": "markdown",
      "source": [
        "### Enable Weights and Biases autologging to track our experiments"
      ],
      "metadata": {
        "id": "yR8cMrPMAkCu"
      }
    },
    {
      "cell_type": "code",
      "source": [
        "autolog({\"project\":\"llmapps\", \"job_type\":\"introduction\"})"
      ],
      "metadata": {
        "colab": {
          "base_uri": "https://localhost:8080/",
          "height": 191
        },
        "id": "FhScFx83-q9M",
        "outputId": "feb61594-3195-46fa-d4ff-fc904f413c68"
      },
      "execution_count": null,
      "outputs": [
        {
          "output_type": "display_data",
          "data": {
            "text/plain": [
              "<IPython.core.display.Javascript object>"
            ],
            "application/javascript": [
              "\n",
              "        window._wandbApiKey = new Promise((resolve, reject) => {\n",
              "            function loadScript(url) {\n",
              "            return new Promise(function(resolve, reject) {\n",
              "                let newScript = document.createElement(\"script\");\n",
              "                newScript.onerror = reject;\n",
              "                newScript.onload = resolve;\n",
              "                document.body.appendChild(newScript);\n",
              "                newScript.src = url;\n",
              "            });\n",
              "            }\n",
              "            loadScript(\"https://cdn.jsdelivr.net/npm/postmate/build/postmate.min.js\").then(() => {\n",
              "            const iframe = document.createElement('iframe')\n",
              "            iframe.style.cssText = \"width:0;height:0;border:none\"\n",
              "            document.body.appendChild(iframe)\n",
              "            const handshake = new Postmate({\n",
              "                container: iframe,\n",
              "                url: 'https://wandb.ai/authorize'\n",
              "            });\n",
              "            const timeout = setTimeout(() => reject(\"Couldn't auto authenticate\"), 5000)\n",
              "            handshake.then(function(child) {\n",
              "                child.on('authorize', data => {\n",
              "                    clearTimeout(timeout)\n",
              "                    resolve(data)\n",
              "                });\n",
              "            });\n",
              "            })\n",
              "        });\n",
              "    "
            ]
          },
          "metadata": {}
        },
        {
          "output_type": "stream",
          "name": "stderr",
          "text": [
            "\u001b[34m\u001b[1mwandb\u001b[0m: Logging into wandb.ai. (Learn how to deploy a W&B server locally: https://wandb.me/wandb-server)\n",
            "\u001b[34m\u001b[1mwandb\u001b[0m: You can find your API key in your browser here: https://wandb.ai/authorize\n",
            "wandb: Paste an API key from your profile and hit enter, or press ctrl+c to quit:"
          ]
        },
        {
          "name": "stdout",
          "output_type": "stream",
          "text": [
            " ··········\n"
          ]
        },
        {
          "output_type": "stream",
          "name": "stderr",
          "text": [
            "\u001b[34m\u001b[1mwandb\u001b[0m: Appending key for api.wandb.ai to your netrc file: /root/.netrc\n"
          ]
        },
        {
          "output_type": "display_data",
          "data": {
            "text/plain": [
              "<IPython.core.display.HTML object>"
            ],
            "text/html": [
              "Tracking run with wandb version 0.15.4"
            ]
          },
          "metadata": {}
        },
        {
          "output_type": "display_data",
          "data": {
            "text/plain": [
              "<IPython.core.display.HTML object>"
            ],
            "text/html": [
              "Run data is saved locally in <code>/content/wandb/run-20230625_111212-4v3on3a1</code>"
            ]
          },
          "metadata": {}
        },
        {
          "output_type": "display_data",
          "data": {
            "text/plain": [
              "<IPython.core.display.HTML object>"
            ],
            "text/html": [
              "Syncing run <strong><a href='https://wandb.ai/33-papers/llmapps/runs/4v3on3a1' target=\"_blank\">wandering-wind-3</a></strong> to <a href='https://wandb.ai/33-papers/llmapps' target=\"_blank\">Weights & Biases</a> (<a href='https://wandb.me/run' target=\"_blank\">docs</a>)<br/>"
            ]
          },
          "metadata": {}
        },
        {
          "output_type": "display_data",
          "data": {
            "text/plain": [
              "<IPython.core.display.HTML object>"
            ],
            "text/html": [
              " View project at <a href='https://wandb.ai/33-papers/llmapps' target=\"_blank\">https://wandb.ai/33-papers/llmapps</a>"
            ]
          },
          "metadata": {}
        },
        {
          "output_type": "display_data",
          "data": {
            "text/plain": [
              "<IPython.core.display.HTML object>"
            ],
            "text/html": [
              " View run at <a href='https://wandb.ai/33-papers/llmapps/runs/4v3on3a1' target=\"_blank\">https://wandb.ai/33-papers/llmapps/runs/4v3on3a1</a>"
            ]
          },
          "metadata": {}
        }
      ]
    },
    {
      "cell_type": "markdown",
      "source": [
        "## Tokenization"
      ],
      "metadata": {
        "id": "_KxZBcWTBK2p"
      }
    },
    {
      "cell_type": "markdown",
      "source": [
        "Tokenization is the process of breaking down text into smaller units called tokens. <br>In the context of language models like GPT-3.5, tokenization refers to splitting input<br> text into discrete units that the model can understand and process. These tokens can<br> be individual characters, words, or even subwords, depending on the tokenization scheme used."
      ],
      "metadata": {
        "id": "Sh_PmbMBBXJd"
      }
    },
    {
      "cell_type": "markdown",
      "source": [
        "`tiktoken` uses BPE (Byte Pair Encoding).\n",
        "\n",
        "\n",
        "\n"
      ],
      "metadata": {
        "id": "H9a5TomhBu_2"
      }
    },
    {
      "cell_type": "markdown",
      "source": [
        "` tiktoken.encoding_for_model()` is used to automatically load the correct encoding for a given model name."
      ],
      "metadata": {
        "id": "IW-amy93CRlZ"
      }
    },
    {
      "cell_type": "markdown",
      "source": [
        "![image.png](data:image/png;base64,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)<br>\n",
        "*Source: https://github.com/openai/openai-cookbook/blob/main/examples/How_to_count_tokens_with_tiktoken.ipynb*"
      ],
      "metadata": {
        "id": "gPO4V7P0Ci3P"
      }
    },
    {
      "cell_type": "markdown",
      "source": [
        "Different models can have different tokenizers and here we are using tokenizer for \"`text-davinci-003`\" model."
      ],
      "metadata": {
        "id": "QpNAi9ILEkQe"
      }
    },
    {
      "cell_type": "code",
      "source": [
        "encoding = tiktoken.encoding_for_model(\"text-davinci-003\")"
      ],
      "metadata": {
        "id": "c8YQERKUA1qr"
      },
      "execution_count": null,
      "outputs": []
    },
    {
      "cell_type": "code",
      "source": [
        "# Encoding the string\n",
        "enc = encoding.encode(\"Weights and Biases is awesome!\")\n",
        "print(enc)"
      ],
      "metadata": {
        "colab": {
          "base_uri": "https://localhost:8080/"
        },
        "id": "1wtbukgoCxcb",
        "outputId": "0e1c5208-5c84-4c76-8fee-764130c1af28"
      },
      "execution_count": null,
      "outputs": [
        {
          "output_type": "stream",
          "name": "stdout",
          "text": [
            "[1135, 2337, 290, 8436, 1386, 318, 7427, 0]\n"
          ]
        }
      ]
    },
    {
      "cell_type": "code",
      "source": [
        "# Decoding the encoded string\n",
        "print(encoding.decode(enc))"
      ],
      "metadata": {
        "colab": {
          "base_uri": "https://localhost:8080/"
        },
        "id": "MdVcqe-cC5ld",
        "outputId": "5ef4bf17-8729-40f4-c261-8a3ef25e37a7"
      },
      "execution_count": null,
      "outputs": [
        {
          "output_type": "stream",
          "name": "stdout",
          "text": [
            "Weights and Biases is awesome!\n"
          ]
        }
      ]
    },
    {
      "cell_type": "code",
      "source": [
        "# Decoding tokens one by one\n",
        "for token_id in enc:\n",
        "    print(f\"{token_id}\\t{encoding.decode([token_id])}\")"
      ],
      "metadata": {
        "colab": {
          "base_uri": "https://localhost:8080/"
        },
        "id": "Eq-A53zLC_8d",
        "outputId": "e57c7df6-26ae-4614-ca2a-1e1e9b0a6a27"
      },
      "execution_count": null,
      "outputs": [
        {
          "output_type": "stream",
          "name": "stdout",
          "text": [
            "1135\tWe\n",
            "2337\tights\n",
            "290\t and\n",
            "8436\t Bi\n",
            "1386\tases\n",
            "318\t is\n",
            "7427\t awesome\n",
            "0\t!\n"
          ]
        }
      ]
    },
    {
      "cell_type": "markdown",
      "source": [
        "We also notice that some of the tokens also consist of spacing."
      ],
      "metadata": {
        "id": "iZ56sGadHYUQ"
      }
    },
    {
      "cell_type": "markdown",
      "source": [
        "## Sampling"
      ],
      "metadata": {
        "id": "FQwne2VjHhIA"
      }
    },
    {
      "cell_type": "markdown",
      "source": [
        "Sampling in Language Models (LLMs) refers to the process of generating text by randomly selecting words <br>or tokens from the model's output distribution."
      ],
      "metadata": {
        "id": "w79HpxqyLyZ5"
      }
    },
    {
      "cell_type": "markdown",
      "source": [
        "The most basic sampling approach are:<br>\n",
        "1. Greedy Decoding : argmax at each step\n",
        "2. Beam Search : argmax over multiple candidate sequences\n",
        "\n",
        "However, these approach do have limitations as it is hard to generate natural text using these methods.<br>\n",
        "<br>\n",
        "In order to make LLM's better, we use few other sampling techniques such as:<br><br>\n",
        "1. **Temperature** - Temperature controls the randomness of the sampling process. A higher temperature (e.g., 1.0) increases randomness, leading to more diverse and unpredictable output. Conversely, a lower temperature (e.g., 0.5) makes the sampling process more deterministic, favoring high-probability tokens and generating more conservative output.<br><br>\n",
        "2. **Top p sampling** - Top-p sampling, also known as nucleus sampling or probabilistic sampling, involves constraining the sampling process to the top-p most likely tokens at each step. This method helps avoid sampling from the entire vocabulary and focuses on a smaller subset of likely candidates. The value of p determines the number of tokens considered at each step. A smaller p leads to a more focused and deterministic output, while a larger p allows for more diversity."
      ],
      "metadata": {
        "id": "8dPZxWTXL1mF"
      }
    },
    {
      "cell_type": "markdown",
      "source": [
        "### Temperature sampling"
      ],
      "metadata": {
        "id": "BBvIPNLGQgqL"
      }
    },
    {
      "cell_type": "code",
      "source": [
        "def generate_with_temperature(temp):\n",
        "  '''\n",
        "  Generates text with a given temperature, higher temperature means more randomness\n",
        "  '''\n",
        "  response = openai.Completion.create(\n",
        "      model = \"text-davinci-003\",\n",
        "      prompt = \"Say something about Weights and Biases\",\n",
        "      max_tokens = 50,\n",
        "      temperature = temp\n",
        "  )\n",
        "  return response.choices[0].text"
      ],
      "metadata": {
        "id": "xwY1EGNvEKUg"
      },
      "execution_count": null,
      "outputs": []
    },
    {
      "cell_type": "code",
      "source": [
        "for temp in [0, 0.25, 0.5, 1, 1.25, 1.5, 1.75, 2]:\n",
        "  pprint(f\"TEMP : {temp}, GENERATION : {generate_with_temperature(temp)}\")"
      ],
      "metadata": {
        "colab": {
          "base_uri": "https://localhost:8080/"
        },
        "id": "kmaQqlvwO7Vl",
        "outputId": "1b2508d0-857c-4205-a970-570b091a145d"
      },
      "execution_count": null,
      "outputs": [
        {
          "output_type": "stream",
          "name": "stdout",
          "text": [
            "('TEMP : 0, GENERATION : \\n'\n",
            " '\\n'\n",
            " 'Weights and Biases is a powerful tool for tracking and analyzing machine '\n",
            " 'learning experiments. It provides a comprehensive suite of features to help '\n",
            " 'data scientists and engineers monitor, compare, and optimize their models. '\n",
            " 'With its intuitive visualizations and automated logging,')\n",
            "('TEMP : 0.25, GENERATION : \\n'\n",
            " '\\n'\n",
            " 'Weights and Biases is an AI platform that helps data scientists and machine '\n",
            " 'learning engineers track, compare, and optimize their models. It provides an '\n",
            " 'intuitive dashboard to visualize and compare model performance, as well as '\n",
            " 'tools to collaborate with colleagues and share')\n",
            "('TEMP : 0.5, GENERATION : \\n'\n",
            " '\\n'\n",
            " 'Weights and Biases is an AI platform that helps data scientists and machine '\n",
            " 'learning engineers track, compare, and optimize their models. It provides a '\n",
            " 'suite of tools to help users understand and improve their models, including '\n",
            " 'logging, visualizing, and')\n",
            "('TEMP : 1, GENERATION : \\n'\n",
            " '\\n'\n",
            " 'Weights and Biases is a tool that helps developers and machine learning '\n",
            " 'engineers track their model performance and metadata in production-scale '\n",
            " 'projects. Weights and Biases makes it easy to monitor progress, search '\n",
            " 'experiments, collaborate with teammates, and analyze')\n",
            "('TEMP : 1.25, GENERATION : \\n'\n",
            " '\\n'\n",
            " 'Weights and Biases is an incredibly useful tool for data scientists, machine '\n",
            " 'learning engineers, and developers all around the world. This tool guides '\n",
            " 'users on model training and experimentation journey by keeping track of '\n",
            " 'hyperparameter variables, model checkpoints, prediction')\n",
            "('TEMP : 1.5, GENERATION : \\n'\n",
            " '\\n'\n",
            " 'Weights and Biases is an accompanied machine learning framework which helps '\n",
            " 'track, monitor, and improve ML projects. It provides resources such as '\n",
            " 'benchmark models, experiment tracking tools, data visualization, artifacts '\n",
            " 'backed by GitHub cloud, and powerful model analysis.')\n",
            "('TEMP : 1.75, GENERATION : \\n'\n",
            " 'Praise them endlessly when talking\\n'\n",
            " 'Weights & Biases (W&B) turns engineering effort spikes into slow learning '\n",
            " \"that products use heavily for detecting their projects' progress and details \"\n",
            " 'wide world contexts — such as experiment results over time directly adjusted '\n",
            " 'by')\n",
            "('TEMP : 2, GENERATION : \\n'\n",
            " '\\n'\n",
            " 'Weights & Biases provides data training pipeline service specialized in '\n",
            " 'implementations applied organization TensSee matching end Organizations both '\n",
            " 'assess expected APIs massive extend knowledge topic helping portfolio '\n",
            " 'accountable management located featuring refer study weight understandable '\n",
            " 'criteria occur discounts.. promising date We A capable.')\n"
          ]
        }
      ]
    },
    {
      "cell_type": "markdown",
      "source": [
        "### Top p sampling"
      ],
      "metadata": {
        "id": "TjbMq3EEQjC4"
      }
    },
    {
      "cell_type": "code",
      "source": [
        "def generate_with_topp(topp):\n",
        "  '''\n",
        "  Generates text with a given temperature, higher temperature means more randomness\n",
        "  '''\n",
        "  response = openai.Completion.create(\n",
        "      model = \"text-davinci-003\",\n",
        "      prompt = \"Say something about Weights and Biases\",\n",
        "      max_tokens = 50,\n",
        "      top_p = topp\n",
        "  )\n",
        "  return response.choices[0].text"
      ],
      "metadata": {
        "id": "XCyoBZg7PO_P"
      },
      "execution_count": null,
      "outputs": []
    },
    {
      "cell_type": "code",
      "source": [
        "for topp in [0, 0.01, 0.1, 0.25, 0.4, 0.5, 0.6, 0.8, 1]:\n",
        "  pprint(f\"TOP_P: {topp}, GENERATION : {generate_with_topp(topp)}\")"
      ],
      "metadata": {
        "colab": {
          "base_uri": "https://localhost:8080/"
        },
        "id": "dwZcDgrqQ51X",
        "outputId": "cc5ea736-831b-441d-a68e-d63787dbbc65"
      },
      "execution_count": null,
      "outputs": [
        {
          "output_type": "stream",
          "name": "stdout",
          "text": [
            "('TOP_P: 0, GENERATION : \\n'\n",
            " '\\n'\n",
            " 'Weights and Biases is a powerful tool for tracking and analyzing machine '\n",
            " 'learning experiments. It provides a comprehensive suite of features to help '\n",
            " 'data scientists and engineers monitor, compare, and optimize their models. '\n",
            " 'With its intuitive visualizations and easy-to')\n",
            "('TOP_P: 0.01, GENERATION : \\n'\n",
            " '\\n'\n",
            " 'Weights and Biases is a powerful tool for tracking and analyzing machine '\n",
            " 'learning experiments. It provides a comprehensive suite of features to help '\n",
            " 'data scientists and engineers monitor, compare, and optimize their models. '\n",
            " 'With its intuitive visualizations and easy-to')\n",
            "('TOP_P: 0.1, GENERATION : \\n'\n",
            " '\\n'\n",
            " 'Weights and Biases is a powerful tool for tracking and analyzing machine '\n",
            " 'learning experiments. It provides a comprehensive suite of features to help '\n",
            " 'data scientists and engineers monitor, compare, and optimize their models. '\n",
            " 'With its intuitive visualizations and easy-to')\n",
            "('TOP_P: 0.25, GENERATION : \\n'\n",
            " '\\n'\n",
            " 'Weights and Biases is a powerful tool for tracking and analyzing machine '\n",
            " 'learning experiments. It provides a suite of tools for monitoring, '\n",
            " 'visualizing, and optimizing ML models, allowing data scientists to quickly '\n",
            " 'identify and address issues in their models. With')\n",
            "('TOP_P: 0.4, GENERATION : \\n'\n",
            " '\\n'\n",
            " 'Weights and Biases is a powerful tool for tracking and analyzing machine '\n",
            " 'learning experiments. It provides a comprehensive suite of features to help '\n",
            " 'researchers keep track of their experiments, compare results, and optimize '\n",
            " 'their models. With its intuitive UI and powerful analytics')\n",
            "('TOP_P: 0.5, GENERATION : \\n'\n",
            " '\\n'\n",
            " 'Weights and Biases is a powerful tool for tracking, visualizing, and '\n",
            " 'understanding the performance of machine learning models. It helps data '\n",
            " 'scientists and engineers quickly understand how their models are performing, '\n",
            " 'identify areas of improvement, and collaborate with their team')\n",
            "('TOP_P: 0.6, GENERATION : \\n'\n",
            " '\\n'\n",
            " 'Weights and Biases is an AI platform that helps data scientists, engineers, '\n",
            " 'and researchers track and optimize their machine learning models. It '\n",
            " 'provides a suite of tools for visualizing, analyzing, and debugging models, '\n",
            " 'and helps teams collaborate and share')\n",
            "('TOP_P: 0.8, GENERATION : \\n'\n",
            " '\\n'\n",
            " 'Weights and Biases is an experiment tracking and collaboration platform for '\n",
            " 'machine learning and deep learning that makes it easy to track experiments, '\n",
            " 'compare results, and share insights. It is designed to help data scientists '\n",
            " 'quickly iterate and develop better models,')\n",
            "('TOP_P: 1, GENERATION : \\n'\n",
            " '\\n'\n",
            " 'Weights and Biases is an experiment tracking platform that helps model '\n",
            " 'building teams stay organized and iterate quickly without sacrificing '\n",
            " 'visibility or reproducibility. It makes it easy to log and visualize '\n",
            " 'metrics, hyperparameters, model sample inputs and outputs')\n"
          ]
        }
      ]
    },
    {
      "cell_type": "markdown",
      "source": [
        "## Chat API"
      ],
      "metadata": {
        "id": "MOuzSPgGSCDE"
      }
    },
    {
      "cell_type": "markdown",
      "source": [
        "Let's explore the Chat API.<br>\n",
        "For this, we will be using `gpt-3.5-turbo`."
      ],
      "metadata": {
        "id": "j1GBg8rxSbrD"
      }
    },
    {
      "cell_type": "code",
      "source": [
        "MODEL = \"gpt-3.5-turbo\"\n",
        "\n",
        "response = openai.ChatCompletion.create(model = MODEL,\n",
        "                                        messages = [\n",
        "                                            {\"role\" : \"system\", \"content\" : \"You are a helpful assistant.\"},\n",
        "                                            {\"role\" : \"user\", \"content\" : \"Say something about HuggingFace\"}\n",
        "                                        ],\n",
        "                                        temperature = 0.2)\n",
        "\n",
        "response"
      ],
      "metadata": {
        "colab": {
          "base_uri": "https://localhost:8080/"
        },
        "id": "v7bzhPAFRSL_",
        "outputId": "a07bd553-7649-4b2f-9116-09f1746a8fc1"
      },
      "execution_count": null,
      "outputs": [
        {
          "output_type": "execute_result",
          "data": {
            "text/plain": [
              "<OpenAIObject chat.completion id=chatcmpl-7VI9N701XvCLhfWVO4nQkgk0W1EW6 at 0x7f7d32000040> JSON: {\n",
              "  \"id\": \"chatcmpl-7VI9N701XvCLhfWVO4nQkgk0W1EW6\",\n",
              "  \"object\": \"chat.completion\",\n",
              "  \"created\": 1687692293,\n",
              "  \"model\": \"gpt-3.5-turbo-0301\",\n",
              "  \"choices\": [\n",
              "    {\n",
              "      \"index\": 0,\n",
              "      \"message\": {\n",
              "        \"role\": \"assistant\",\n",
              "        \"content\": \"HuggingFace is a company that specializes in natural language processing (NLP) and provides a wide range of tools and libraries for developers to build and train NLP models. Their most popular library is Transformers, which is used for pre-training and fine-tuning state-of-the-art NLP models such as BERT, GPT-2, and RoBERTa. HuggingFace is also known for their open-source approach and community-driven development, making their tools accessible to a wide range of users.\"\n",
              "      },\n",
              "      \"finish_reason\": \"stop\"\n",
              "    }\n",
              "  ],\n",
              "  \"usage\": {\n",
              "    \"prompt_tokens\": 25,\n",
              "    \"completion_tokens\": 101,\n",
              "    \"total_tokens\": 126\n",
              "  }\n",
              "}"
            ]
          },
          "metadata": {},
          "execution_count": 16
        }
      ]
    },
    {
      "cell_type": "markdown",
      "source": [
        "The response output is `chat.completion` openai object."
      ],
      "metadata": {
        "id": "eNInK6gZTOHB"
      }
    },
    {
      "cell_type": "code",
      "source": [
        "pprint(response.choices[0].message.content)"
      ],
      "metadata": {
        "colab": {
          "base_uri": "https://localhost:8080/"
        },
        "id": "7BoNWL_xTLEO",
        "outputId": "59fba2f7-c43a-43e1-804c-613e46affc3e"
      },
      "execution_count": null,
      "outputs": [
        {
          "output_type": "stream",
          "name": "stdout",
          "text": [
            "('HuggingFace is a company that specializes in natural language processing '\n",
            " '(NLP) and provides a wide range of tools and libraries for developers to '\n",
            " 'build and train NLP models. Their most popular library is Transformers, '\n",
            " 'which is used for pre-training and fine-tuning state-of-the-art NLP models '\n",
            " 'such as BERT, GPT-2, and RoBERTa. HuggingFace is also known for their '\n",
            " 'open-source approach and community-driven development, making their tools '\n",
            " 'accessible to a wide range of users.')\n"
          ]
        }
      ]
    },
    {
      "cell_type": "code",
      "source": [
        "wandb.finish()"
      ],
      "metadata": {
        "colab": {
          "base_uri": "https://localhost:8080/",
          "height": 333,
          "referenced_widgets": [
            "3abc239a3dd742859a0458cda9f50d9e",
            "37a1d1915fe64882bdbc644fc90e3ec9",
            "7abd4ee1a6dd4da59b6e1caaf8c94799",
            "ded34e30c42245e885f644098c950dea",
            "650d55e01628448aa8cb53f85e92aa2c",
            "43accb0a32a54cf18bc3d4a85111e3ac",
            "3c6689e6d9d54e478ad20541419e674c",
            "07ed852ad8864d879fde7c547f31fd0a"
          ]
        },
        "id": "amBX-ymvTnZu",
        "outputId": "b07b73e1-385e-4c0a-9f1b-82e21b7012ed"
      },
      "execution_count": null,
      "outputs": [
        {
          "output_type": "display_data",
          "data": {
            "text/plain": [
              "<IPython.core.display.HTML object>"
            ],
            "text/html": [
              "Waiting for W&B process to finish... <strong style=\"color:green\">(success).</strong>"
            ]
          },
          "metadata": {}
        },
        {
          "output_type": "display_data",
          "data": {
            "text/plain": [
              "VBox(children=(Label(value='0.051 MB of 0.051 MB uploaded (0.000 MB deduped)\\r'), FloatProgress(value=1.0, max…"
            ],
            "application/vnd.jupyter.widget-view+json": {
              "version_major": 2,
              "version_minor": 0,
              "model_id": "3abc239a3dd742859a0458cda9f50d9e"
            }
          },
          "metadata": {}
        },
        {
          "output_type": "display_data",
          "data": {
            "text/plain": [
              "<IPython.core.display.HTML object>"
            ],
            "text/html": [
              "<style>\n",
              "    table.wandb td:nth-child(1) { padding: 0 10px; text-align: left ; width: auto;} td:nth-child(2) {text-align: left ; width: 100%}\n",
              "    .wandb-row { display: flex; flex-direction: row; flex-wrap: wrap; justify-content: flex-start; width: 100% }\n",
              "    .wandb-col { display: flex; flex-direction: column; flex-basis: 100%; flex: 1; padding: 10px; }\n",
              "    </style>\n",
              "<div class=\"wandb-row\"><div class=\"wandb-col\"><h3>Run history:</h3><br/><table class=\"wandb\"><tr><td>usage/completion_tokens</td><td>▁▁▁▁▁▁▁▁▁▁▁▁▁▁▁▁▁█</td></tr><tr><td>usage/elapsed_time</td><td>▄▂▃▃▂▂▂▂▁▁▁▁▁▁▁▂▂█</td></tr><tr><td>usage/prompt_tokens</td><td>▁▁▁▁▁▁▁▁▁▁▁▁▁▁▁▁▁█</td></tr><tr><td>usage/total_tokens</td><td>▁▁▁▁▁▁▁▁▁▁▁▁▁▁▁▁▁█</td></tr></table><br/></div><div class=\"wandb-col\"><h3>Run summary:</h3><br/><table class=\"wandb\"><tr><td>usage/completion_tokens</td><td>101</td></tr><tr><td>usage/elapsed_time</td><td>4.86316</td></tr><tr><td>usage/prompt_tokens</td><td>25</td></tr><tr><td>usage/total_tokens</td><td>126</td></tr></table><br/></div></div>"
            ]
          },
          "metadata": {}
        },
        {
          "output_type": "display_data",
          "data": {
            "text/plain": [
              "<IPython.core.display.HTML object>"
            ],
            "text/html": [
              " View run <strong style=\"color:#cdcd00\">wandering-wind-3</strong> at: <a href='https://wandb.ai/33-papers/llmapps/runs/4v3on3a1' target=\"_blank\">https://wandb.ai/33-papers/llmapps/runs/4v3on3a1</a><br/>Synced 5 W&B file(s), 18 media file(s), 18 artifact file(s) and 0 other file(s)"
            ]
          },
          "metadata": {}
        },
        {
          "output_type": "display_data",
          "data": {
            "text/plain": [
              "<IPython.core.display.HTML object>"
            ],
            "text/html": [
              "Find logs at: <code>./wandb/run-20230625_111212-4v3on3a1/logs</code>"
            ]
          },
          "metadata": {}
        }
      ]
    },
    {
      "cell_type": "markdown",
      "source": [
        "## Prompting"
      ],
      "metadata": {
        "id": "-hvX9FE9fYbu"
      }
    },
    {
      "cell_type": "markdown",
      "source": [
        "dive deeper on prompting the model by passing a better context by using available data from users questions and using the documentation files to generate better answers."
      ],
      "metadata": {
        "id": "2QQ1Fxe5flBO"
      }
    },
    {
      "cell_type": "code",
      "source": [
        "!pip install -Uqqq rich tenacity"
      ],
      "metadata": {
        "id": "049oYEndfaUE"
      },
      "execution_count": null,
      "outputs": []
    },
    {
      "cell_type": "markdown",
      "source": [
        "\"`Tenacity`\" is a Python package that provides a convenient way to add retry logic to your code. It is commonly used in scenarios where you want to automatically retry a function or a block of code when it encounters certain types of errors or failures."
      ],
      "metadata": {
        "id": "7U9NsCw5gKDV"
      }
    },
    {
      "cell_type": "code",
      "source": [
        "from rich.markdown import Markdown\n",
        "import pandas as pd\n",
        "from tenacity import (\n",
        "    retry,\n",
        "    stop_after_attempt,\n",
        "    wait_random_exponential, # for exponential backoff\n",
        ")\n",
        "from wandb.integration.openai import autolog"
      ],
      "metadata": {
        "id": "Zgo9dESpf0V0"
      },
      "execution_count": null,
      "outputs": []
    },
    {
      "cell_type": "markdown",
      "source": [
        "## Generating synthetic support questions"
      ],
      "metadata": {
        "id": "rtF2ws_ag8tK"
      }
    },
    {
      "cell_type": "code",
      "source": [],
      "metadata": {
        "id": "QPSKLL6zgqU5"
      },
      "execution_count": null,
      "outputs": []
    }
  ]
}